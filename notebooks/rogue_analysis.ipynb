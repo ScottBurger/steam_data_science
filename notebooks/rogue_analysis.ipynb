{
 "cells": [
  {
   "cell_type": "markdown",
   "metadata": {},
   "source": [
    "This notebook will show how to use the steam_data_science package to pull tag and review data for all games branded as 'rogue-likes'.\n",
    "\n",
    "First we need to go to steamdb.info and download the html files for all rogues. Expand this section later\n",
    "\n"
   ]
  },
  {
   "cell_type": "code",
   "execution_count": 1,
   "metadata": {},
   "outputs": [
    {
     "data": {
      "text/plain": [
       "'/Users/sburger/sds/notebooks'"
      ]
     },
     "execution_count": 1,
     "metadata": {},
     "output_type": "execute_result"
    }
   ],
   "source": [
    "pwd"
   ]
  },
  {
   "cell_type": "code",
   "execution_count": 2,
   "metadata": {},
   "outputs": [
    {
     "name": "stdout",
     "output_type": "stream",
     "text": [
      "/Users/sburger/sds/data\n"
     ]
    }
   ],
   "source": [
    "cd ../data"
   ]
  },
  {
   "cell_type": "code",
   "execution_count": null,
   "metadata": {},
   "outputs": [],
   "source": [
    "from bs4 import BeautifulSoup\n",
    "\n",
    "\n",
    "# extract the appids from all the files\n",
    "apps = []\n",
    "files = ['roguelike.html', 'roguelite.html', 'traditional_roguelike.html', 'roguelike_deckbuilder.html', 'action_roguelike.html', 'roguevania.html']\n",
    "for j in files:\n",
    "    text_file = open(j, \"rb\")\n",
    "    steamdb_text = text_file.read()\n",
    "    text_file.close()\n",
    "    soup = BeautifulSoup(steamdb_text, \"html.parser\")\n",
    "    trs = [tr for tr in soup.find_all('tr')]\n",
    "    for app in soup.find_all('tr'):\n",
    "        apps.append(app.get('data-appid'))\n",
    "    appset = list(set(apps))\n",
    "    \n",
    "    \n",
    "    \n",
    "\n",
    "# for each appid, get title, reviews, tags\n",
    "for i in range(0,len(appset)):\n",
    "    print(\"{}/{}\".format(i, len(appset)))\n",
    "    \n",
    "    if not(appset[i] is None):\n",
    "        # data_manager(appset[i], 'tag')\n",
    "        # data_manager(appset[i], 'review')\n",
    "        data_manager(appset[i], 'details')\n",
    "        \n",
    "        "
   ]
  }
 ],
 "metadata": {
  "kernelspec": {
   "display_name": "Python 3",
   "language": "python",
   "name": "python3"
  },
  "language_info": {
   "codemirror_mode": {
    "name": "ipython",
    "version": 3
   },
   "file_extension": ".py",
   "mimetype": "text/x-python",
   "name": "python",
   "nbconvert_exporter": "python",
   "pygments_lexer": "ipython3",
   "version": "3.8.5"
  }
 },
 "nbformat": 4,
 "nbformat_minor": 4
}
